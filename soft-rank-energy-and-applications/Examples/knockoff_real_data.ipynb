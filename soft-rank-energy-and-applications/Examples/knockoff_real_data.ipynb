{
 "cells": [
  {
   "cell_type": "markdown",
   "metadata": {},
   "source": [
    "## Significant metabolites selection using sRMMD knockoffs on real dataset\n",
    "This notebook demonstates how to apply sRMMD-knockoff filter on 'C18 positive' metabolites dataset to find important biomarkers. Before applying the knockoff filter, severeal preprocessing steps- missing value impuation, and standardization are done on the data. After training the generator with the preprocessed dataset, knockoffs are produced 100 times and Random forest is applied to find the knockoff statistic for each instance. Metabolites that are found important (after applying the knockoff filter) more than 70 are only considered.   "
   ]
  },
  {
   "cell_type": "code",
   "execution_count": null,
   "metadata": {},
   "outputs": [],
   "source": [
    "import numpy as np\n",
    "import pandas as pd\n",
    "import gzip\n",
    "import pickle\n",
    "import matplotlib.pyplot as plt\n",
    "from sklearn.neighbors import KernelDensity\n",
    "from src.gaussian import GaussianKnockoffs\n",
    "from src.machine import KnockoffGenerator\n",
    "from sklearn.impute import KNNImputer\n",
    "from sklearn.ensemble import RandomForestClassifier\n",
    "from scipy.stats import iqr\n",
    "from sklearn.preprocessing import StandardScaler"
   ]
  },
  { 
   "cell_type": "code",
   "execution_count": 2,
   "metadata": {},
   "outputs": [],
   "source": [
    "def missing_value_imputation(data):\n",
    "    x = data.to_numpy()\n",
    "    imputer = KNNImputer(n_neighbors = 2, weights=\"uniform\")\n",
    "    imputed_x =  imputer.fit_transform(x)\n",
    "    new_data = data.copy()\n",
    "    new_data.iloc[:, :] = imputed_x\n",
    "    return new_data\n",
    "\n",
    "def rf_oob_score(X, X_knockoff, y):\n",
    "    \n",
    "    p = X.shape[1]\n",
    "    clf = RandomForestClassifier(n_estimators = 500, bootstrap = True, oob_score = True, max_features = 'sqrt')\n",
    "    clf.fit(np.hstack((X, X_knockoff)), y)\n",
    "    Z = clf.feature_importances_\n",
    "    W = np.abs(Z[:p]) - np.abs(Z[p : (2 * p)])\n",
    "    return Z, W\n",
    "\n",
    "def kfilter(W, offset = 0.0, q = 0.1):\n",
    "    t = np.insert(np.abs(W[W != 0]), 0, 0) # omitting 0 value and then add zero at the begining\n",
    "    t = np.sort(t)\n",
    "    ratio = np.zeros(len(t));\n",
    "    for i in range(len(t)):\n",
    "        ratio[i] = (offset + np.sum(W <= -t[i])) / np.maximum(1.0, np.sum(W >= t[i]))\n",
    "        \n",
    "    index = np.where(ratio <= q)[0]\n",
    "    if len(index)== 0:\n",
    "        thresh = float('inf')\n",
    "    else:\n",
    "        thresh = t[index[0]]\n",
    "       \n",
    "    return thresh\n",
    "\n",
    "def selection(W, offset = 1.0, nominal_fdr = 0.1):\n",
    "    \n",
    "    W_threshold = kfilter(W, q = nominal_fdr)\n",
    "    selected = np.where(W >= W_threshold)[0]\n",
    "    return selected, W_threshold"
   ]
  },
  {
   "cell_type": "code",
   "execution_count": 3,
   "metadata": {},
   "outputs": [
    {
     "name": "stdout",
     "output_type": "stream",
     "text": [
      "unique diagnosis Index(['cd', 'uc', 'nonibd'], dtype='object') \n",
      " Metabolite X Samples:  (91, 546)\n"
     ]
    }
   ],
   "source": [
    "df =  pd.read_csv('dataset/Real dataset/C18_Negative.txt', sep='\\t', dtype = object)\n",
    "df = df.rename(columns = df.iloc[0])\n",
    "df = df.drop(df.index[0]).reset_index(drop = True)\n",
    "df.columns = df.columns.str.replace(' ', '').str.lower()\n",
    "diagnose = df.columns[1:].str.split('|').str[0]\n",
    "diagnose= diagnose.str.split(':').str[1]\n",
    "_, y = np.unique(diagnose, return_inverse=True)\n",
    "df = df.set_index('factors')\n",
    "print('unique diagnosis', diagnose.unique(), '\\n Metabolite X Samples: ' , df.shape)"
   ]
  },
  {
   "cell_type": "code",
   "execution_count": 4,
   "metadata": {},
   "outputs": [
    {
     "name": "stdout",
     "output_type": "stream",
     "text": [
      "After: (Samples X Metabolites):  (546, 80) \t\t percentage of missing values: 0.009 \n",
      "\n"
     ]
    }
   ],
   "source": [
    "T = [0.8]\n",
    "data =  df.copy().T\n",
    "no_of_samples =  data.shape[0]\n",
    "thresh = int(no_of_samples * T[0])\n",
    "data = data.dropna(axis = 1, thresh = thresh)#keeping the metabolites which has atleast 70% percenet filled values\n",
    "missing_percentage_after = data.isnull().sum().sum()/ (data.shape[0] * data.shape[1])\n",
    "print('After: (Samples X Metabolites): ' , data.shape, '\\t\\t percentage of missing values: %.3f'\n",
    "      %missing_percentage_after,'\\n')"
   ]
  },
  {
   "cell_type": "code",
   "execution_count": 5,
   "metadata": {},
   "outputs": [
    {
     "name": "stdout",
     "output_type": "stream",
     "text": [
      "After: (Samples X Metabolites):  (546, 80)\n"
     ]
    }
   ],
   "source": [
    "imputed_data = missing_value_imputation(data)\n",
    "print('After: (Samples X Metabolites): ' , data.shape)"
   ]
  },
  {
   "cell_type": "code",
   "execution_count": 6,
   "metadata": {},
   "outputs": [],
   "source": [
    "standard_data = imputed_data.copy()\n",
    "standard_data.iloc[:, :] = StandardScaler().fit_transform(standard_data)"
   ]
  },
  {
   "cell_type": "code",
   "execution_count": 7,
   "metadata": {},
   "outputs": [],
   "source": [
    "xTrain = standard_data.values\n",
    "n, d = xTrain.shape "
   ]
  },
  {
   "cell_type": "code",
   "execution_count": 8,
   "metadata": {},
   "outputs": [
    {
     "name": "stdout",
     "output_type": "stream",
     "text": [
      "Generated a training dataset of size: 546 x 80.\n",
      "Average absolute pairwise correlation: 0.657.\n"
     ]
    }
   ],
   "source": [
    "print(\"Generated a training dataset of size: %d x %d.\" %(xTrain.shape))\n",
    "SigmaHat = np.cov(xTrain, rowvar=False)\n",
    "second_order = GaussianKnockoffs(SigmaHat, mu=np.mean(xTrain,0), method=\"sdp\")\n",
    "corr_g = (np.diag(SigmaHat) - np.diag(second_order.Ds)) / np.diag(SigmaHat)\n",
    "print('Average absolute pairwise correlation: %.3f.' %(np.mean(np.abs(corr_g))))"
   ]
  },
  {
   "cell_type": "code",
   "execution_count": 11,
   "metadata": {},
   "outputs": [],
   "source": [
    "pars={\"epochs\":100, \n",
    "      \"epoch_length\": 20, \n",
    "      \"d\": d,\n",
    "      \"dim_h\": int(d*d),\n",
    "      \"batch_size\": int(0.5*n), \n",
    "      \"lr\": 0.01, \n",
    "      \"lr_milestones\": [100],\n",
    "      \"GAMMA\": 1,\n",
    "      \"losstype\": 'sRMMD',\n",
    "      \"epsilon\":50,\n",
    "      \"target_corr\": corr_g,\n",
    "      \"sigmas\":[1.,2.,4.,8.,16.,32.,64.,128.]\n",
    "     }"
   ]
  },
  {
   "cell_type": "code",
   "execution_count": 12,
   "metadata": {
    "scrolled": true
   },
   "outputs": [
    {
     "name": "stdout",
     "output_type": "stream",
     "text": [
      "[   1/ 100], Loss: 0.1500, sRMMD : 0.1122, Decorr: 0.619\n",
      "[   2/ 100], Loss: 0.1091, sRMMD : 0.0999, Decorr: 0.589\n",
      "[   3/ 100], Loss: 0.0813, sRMMD : 0.0751, Decorr: 0.638\n",
      "[   4/ 100], Loss: 0.0810, sRMMD : 0.0752, Decorr: 0.626\n",
      "[   5/ 100], Loss: 0.0829, sRMMD : 0.0751, Decorr: 0.615\n",
      "[   6/ 100], Loss: 0.0585, sRMMD : 0.0531, Decorr: 0.616\n",
      "[   7/ 100], Loss: 0.0839, sRMMD : 0.0777, Decorr: 0.608\n",
      "[   8/ 100], Loss: 0.0651, sRMMD : 0.0600, Decorr: 0.630\n",
      "[   9/ 100], Loss: 0.0580, sRMMD : 0.0528, Decorr: 0.623\n",
      "[  10/ 100], Loss: 0.0632, sRMMD : 0.0579, Decorr: 0.624\n",
      "[  11/ 100], Loss: 0.0719, sRMMD : 0.0666, Decorr: 0.631\n",
      "[  12/ 100], Loss: 0.0829, sRMMD : 0.0757, Decorr: 0.633\n",
      "[  13/ 100], Loss: 0.0608, sRMMD : 0.0563, Decorr: 0.632\n",
      "[  14/ 100], Loss: 0.0576, sRMMD : 0.0534, Decorr: 0.619\n",
      "[  15/ 100], Loss: 0.0639, sRMMD : 0.0591, Decorr: 0.599\n",
      "[  16/ 100], Loss: 0.0552, sRMMD : 0.0498, Decorr: 0.619\n",
      "[  17/ 100], Loss: 0.0612, sRMMD : 0.0569, Decorr: 0.628\n",
      "[  18/ 100], Loss: 0.0562, sRMMD : 0.0518, Decorr: 0.628\n",
      "[  19/ 100], Loss: 0.0538, sRMMD : 0.0500, Decorr: 0.611\n",
      "[  20/ 100], Loss: 0.0478, sRMMD : 0.0437, Decorr: 0.632\n",
      "[  21/ 100], Loss: 0.0504, sRMMD : 0.0457, Decorr: 0.618\n",
      "[  22/ 100], Loss: 0.0608, sRMMD : 0.0564, Decorr: 0.633\n",
      "[  23/ 100], Loss: 0.0519, sRMMD : 0.0480, Decorr: 0.621\n",
      "[  24/ 100], Loss: 0.0535, sRMMD : 0.0495, Decorr: 0.629\n",
      "[  25/ 100], Loss: 0.0504, sRMMD : 0.0458, Decorr: 0.612\n",
      "[  26/ 100], Loss: 0.0542, sRMMD : 0.0493, Decorr: 0.632\n",
      "[  27/ 100], Loss: 0.0468, sRMMD : 0.0430, Decorr: 0.626\n",
      "[  28/ 100], Loss: 0.0467, sRMMD : 0.0428, Decorr: 0.633\n",
      "[  29/ 100], Loss: 0.0501, sRMMD : 0.0469, Decorr: 0.627\n",
      "[  30/ 100], Loss: 0.0460, sRMMD : 0.0417, Decorr: 0.610\n",
      "[  31/ 100], Loss: 0.0438, sRMMD : 0.0405, Decorr: 0.616\n",
      "[  32/ 100], Loss: 0.0547, sRMMD : 0.0498, Decorr: 0.616\n",
      "[  33/ 100], Loss: 0.0530, sRMMD : 0.0499, Decorr: 0.643\n",
      "[  34/ 100], Loss: 0.0519, sRMMD : 0.0479, Decorr: 0.602\n",
      "[  35/ 100], Loss: 0.0445, sRMMD : 0.0410, Decorr: 0.637\n",
      "[  36/ 100], Loss: 0.0464, sRMMD : 0.0433, Decorr: 0.617\n",
      "[  37/ 100], Loss: 0.0514, sRMMD : 0.0476, Decorr: 0.596\n",
      "[  38/ 100], Loss: 0.0527, sRMMD : 0.0443, Decorr: 0.602\n",
      "[  39/ 100], Loss: 0.0487, sRMMD : 0.0449, Decorr: 0.607\n",
      "[  40/ 100], Loss: 0.0502, sRMMD : 0.0475, Decorr: 0.615\n",
      "[  41/ 100], Loss: 0.0499, sRMMD : 0.0460, Decorr: 0.629\n",
      "[  42/ 100], Loss: 0.0423, sRMMD : 0.0392, Decorr: 0.632\n",
      "[  43/ 100], Loss: 0.0447, sRMMD : 0.0409, Decorr: 0.618\n",
      "[  44/ 100], Loss: 0.0428, sRMMD : 0.0396, Decorr: 0.631\n",
      "[  45/ 100], Loss: 0.0424, sRMMD : 0.0383, Decorr: 0.641\n",
      "[  46/ 100], Loss: 0.0431, sRMMD : 0.0402, Decorr: 0.634\n",
      "[  47/ 100], Loss: 0.0412, sRMMD : 0.0382, Decorr: 0.615\n",
      "[  48/ 100], Loss: 0.0551, sRMMD : 0.0511, Decorr: 0.624\n",
      "[  49/ 100], Loss: 0.0356, sRMMD : 0.0328, Decorr: 0.625\n",
      "[  50/ 100], Loss: 0.0419, sRMMD : 0.0386, Decorr: 0.627\n",
      "[  51/ 100], Loss: 0.0433, sRMMD : 0.0399, Decorr: 0.624\n",
      "[  52/ 100], Loss: 0.0412, sRMMD : 0.0378, Decorr: 0.628\n",
      "[  53/ 100], Loss: 0.0376, sRMMD : 0.0351, Decorr: 0.635\n",
      "[  54/ 100], Loss: 0.0456, sRMMD : 0.0414, Decorr: 0.595\n",
      "[  55/ 100], Loss: 0.0386, sRMMD : 0.0340, Decorr: 0.635\n",
      "[  56/ 100], Loss: 0.0505, sRMMD : 0.0468, Decorr: 0.611\n",
      "[  57/ 100], Loss: 0.0356, sRMMD : 0.0326, Decorr: 0.628\n",
      "[  58/ 100], Loss: 0.0475, sRMMD : 0.0423, Decorr: 0.604\n",
      "[  59/ 100], Loss: 0.0406, sRMMD : 0.0362, Decorr: 0.636\n",
      "[  60/ 100], Loss: 0.0491, sRMMD : 0.0452, Decorr: 0.617\n",
      "[  61/ 100], Loss: 0.0476, sRMMD : 0.0435, Decorr: 0.625\n",
      "[  62/ 100], Loss: 0.0447, sRMMD : 0.0407, Decorr: 0.632\n",
      "[  63/ 100], Loss: 0.0406, sRMMD : 0.0379, Decorr: 0.627\n",
      "[  64/ 100], Loss: 0.0406, sRMMD : 0.0375, Decorr: 0.611\n",
      "[  65/ 100], Loss: 0.0417, sRMMD : 0.0388, Decorr: 0.631\n",
      "[  66/ 100], Loss: 0.0392, sRMMD : 0.0361, Decorr: 0.606\n",
      "[  67/ 100], Loss: 0.0357, sRMMD : 0.0323, Decorr: 0.637\n",
      "[  68/ 100], Loss: 0.0403, sRMMD : 0.0377, Decorr: 0.628\n",
      "[  69/ 100], Loss: 0.0527, sRMMD : 0.0462, Decorr: 0.606\n",
      "[  70/ 100], Loss: 0.0378, sRMMD : 0.0347, Decorr: 0.642\n",
      "[  71/ 100], Loss: 0.0465, sRMMD : 0.0415, Decorr: 0.630\n",
      "[  72/ 100], Loss: 0.0374, sRMMD : 0.0346, Decorr: 0.629\n",
      "[  73/ 100], Loss: 0.0366, sRMMD : 0.0341, Decorr: 0.630\n",
      "[  74/ 100], Loss: 0.0365, sRMMD : 0.0336, Decorr: 0.645\n",
      "[  75/ 100], Loss: 0.0354, sRMMD : 0.0329, Decorr: 0.611\n",
      "[  76/ 100], Loss: 0.0358, sRMMD : 0.0334, Decorr: 0.624\n",
      "[  77/ 100], Loss: 0.0396, sRMMD : 0.0358, Decorr: 0.631\n",
      "[  78/ 100], Loss: 0.0392, sRMMD : 0.0362, Decorr: 0.620\n",
      "[  79/ 100], Loss: 0.0444, sRMMD : 0.0402, Decorr: 0.627\n",
      "[  80/ 100], Loss: 0.0356, sRMMD : 0.0329, Decorr: 0.620\n",
      "[  81/ 100], Loss: 0.0405, sRMMD : 0.0368, Decorr: 0.622\n",
      "[  82/ 100], Loss: 0.0449, sRMMD : 0.0409, Decorr: 0.636\n",
      "[  83/ 100], Loss: 0.0331, sRMMD : 0.0308, Decorr: 0.645\n",
      "[  84/ 100], Loss: 0.0341, sRMMD : 0.0317, Decorr: 0.637\n",
      "[  85/ 100], Loss: 0.0390, sRMMD : 0.0350, Decorr: 0.634\n",
      "[  86/ 100], Loss: 0.0338, sRMMD : 0.0315, Decorr: 0.638\n",
      "[  87/ 100], Loss: 0.0420, sRMMD : 0.0392, Decorr: 0.644\n",
      "[  88/ 100], Loss: 0.0299, sRMMD : 0.0279, Decorr: 0.629\n",
      "[  89/ 100], Loss: 0.0318, sRMMD : 0.0290, Decorr: 0.618\n",
      "[  90/ 100], Loss: 0.0330, sRMMD : 0.0305, Decorr: 0.634\n",
      "[  91/ 100], Loss: 0.0441, sRMMD : 0.0389, Decorr: 0.602\n",
      "[  92/ 100], Loss: 0.0327, sRMMD : 0.0298, Decorr: 0.625\n",
      "[  93/ 100], Loss: 0.0328, sRMMD : 0.0298, Decorr: 0.634\n",
      "[  94/ 100], Loss: 0.0297, sRMMD : 0.0277, Decorr: 0.632\n",
      "[  95/ 100], Loss: 0.0311, sRMMD : 0.0288, Decorr: 0.623\n",
      "[  96/ 100], Loss: 0.0355, sRMMD : 0.0333, Decorr: 0.626\n",
      "[  97/ 100], Loss: 0.0297, sRMMD : 0.0270, Decorr: 0.637\n",
      "[  98/ 100], Loss: 0.0371, sRMMD : 0.0338, Decorr: 0.637\n",
      "[  99/ 100], Loss: 0.0361, sRMMD : 0.0320, Decorr: 0.627\n",
      "[ 100/ 100], Loss: 0.0228, sRMMD : 0.0210, Decorr: 0.643\n"
     ]
    }
   ],
   "source": [
    "machine = KnockoffGenerator(pars)\n",
    "machine.train(xTrain)"
   ]
  },
  {
   "cell_type": "code",
   "execution_count": 22,
   "metadata": {
    "scrolled": true
   },
   "outputs": [
    {
     "name": "stdout",
     "output_type": "stream",
     "text": [
      "no of Simulation completed: 1\n",
      "no of Simulation completed: 11\n",
      "no of Simulation completed: 21\n",
      "no of Simulation completed: 31\n",
      "no of Simulation completed: 41\n",
      "no of Simulation completed: 51\n",
      "no of Simulation completed: 61\n",
      "no of Simulation completed: 71\n",
      "no of Simulation completed: 81\n",
      "no of Simulation completed: 91\n"
     ]
    }
   ],
   "source": [
    "xTest = xTrain\n",
    "repeat_exp = 100\n",
    "indices = []\n",
    "for i in range(repeat_exp):\n",
    "    xKnockoff = machine.generate(xTest)\n",
    "    Z, W = rf_oob_score(xTest, xKnockoff, y)\n",
    "    S, T = selection(W, offset =  1.0, nominal_fdr =  0.05)# original offset = 1.0\n",
    "    indices.append(list(S))\n",
    "    if (i%10)==0: print('no of Simulation completed:', i + 1)"
   ]
  },
  {
   "cell_type": "code",
   "execution_count": 23,
   "metadata": {},
   "outputs": [
    {
     "data": {
      "text/plain": [
       "['salicylate',\n",
       " 'phenyllactate',\n",
       " '9.10-diHOME',\n",
       " '1.2.3.4-tetrahydro-beta-carboline-1.3-dicarboxylate',\n",
       " '12.13-diHOME',\n",
       " '4-hydroxystyrene',\n",
       " 'saccharin',\n",
       " 'porphobilinogen',\n",
       " 'p-hydroxyphenylacetate',\n",
       " 'hydrocinnamate',\n",
       " 'taurolithocholate',\n",
       " 'urobilin',\n",
       " 'adrenate',\n",
       " 'carboxyibuprofen',\n",
       " 'docosapentaenoate',\n",
       " 'caproate',\n",
       " 'olmesartan',\n",
       " 'masilinate',\n",
       " 'mandelate']"
      ]
     },
     "execution_count": 23,
     "metadata": {},
     "output_type": "execute_result"
    }
   ],
   "source": [
    "indices_flatten = [j for sub in indices for j in sub]\n",
    "selected =  np.unique(indices_flatten)\n",
    "count_df = pd.DataFrame()\n",
    "unique, counts = np.unique(indices_flatten, return_counts = True)\n",
    "count_df['name'] = unique\n",
    "count_df['count'] = counts\n",
    "count_df = count_df.sort_values(by = ['count'], ascending = False)\n",
    "count_df.drop(count_df[count_df['count'] < 70].index, inplace = True)\n",
    "selected = count_df['name'].to_numpy()\n",
    "meta_list = list(standard_data.columns[selected])\n",
    "meta_list"
   ]
  },
  {
   "cell_type": "code",
   "execution_count": null,
   "metadata": {},
   "outputs": [],
   "source": []
  }
 ],
 "metadata": {
  "kernelspec": {
   "display_name": "Python 3",
   "language": "python",
   "name": "python3"
  },
  "language_info": {
   "codemirror_mode": {
    "name": "ipython",
    "version": 3
   },
   "file_extension": ".py",
   "mimetype": "text/x-python",
   "name": "python",
   "nbconvert_exporter": "python",
   "pygments_lexer": "ipython3",
   "version": "3.8.3"
  }
 },
 "nbformat": 4,
 "nbformat_minor": 5
}
