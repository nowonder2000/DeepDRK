{
 "cells": [
  {
   "cell_type": "markdown",
   "metadata": {},
   "source": [
    "## Demo Notebook for generating knockoffs\n",
    "This notebook demonstates how to train a knockoff generator that minimizes sRMMD and select variables using LASSO regression"
   ]
  },
  {
   "cell_type": "code",
   "execution_count": null,
   "metadata": {},
   "outputs": [],
   "source": [
    "import numpy as np\n",
    "import pandas as pd\n",
    "import pickle\n",
    "import matplotlib.pyplot as plt\n",
    "from sklearn.neighbors import KernelDensity\n",
    "from sklearn.linear_model import LassoCV\n",
    "from src.gaussian import GaussianKnockoffs\n",
    "from src.machine import KnockoffGenerator\n",
    "from sklearn import linear_model\n",
    "from src.utils import generateSamples, sample_Y, select\n",
    "from sklearn import preprocessing"
   ]
  },
  {
   "cell_type": "code",
   "execution_count": 3,
   "metadata": {},
   "outputs": [],
   "source": [
    "n = 2000\n",
    "d = 100\n",
    "distType=\"GaussianAR1\" # {'GaussianAR1', 'SparseGaussian', 'GaussianMixtureAR1','MultivariateStudentT'}\n",
    "dataSampler = generateSamples(distType,d )\n",
    "xTrain = dataSampler.sample(n)\n",
    "SigmaHat = np.cov(xTrain, rowvar=False)\n",
    "second_order = GaussianKnockoffs(SigmaHat, mu=np.mean(xTrain,0), method=\"sdp\")\n",
    "corr_g = (np.diag(SigmaHat) - np.diag(second_order.Ds)) / np.diag(SigmaHat)"
   ]
  },
  {
   "cell_type": "code",
   "execution_count": 5,
   "metadata": {},
   "outputs": [],
   "source": [
    "pars={\"epochs\":100, \n",
    "      \"epoch_length\": 20, \n",
    "      \"d\": d,\n",
    "      \"dim_h\": int(6*d),\n",
    "      \"batch_size\": int(n/4), \n",
    "      \"lr\": 0.01, \n",
    "      \"lr_milestones\": [100],\n",
    "      \"GAMMA\":1, \n",
    "      \"losstype\": 'sRMMD', # {sRE, mmd, sRMMD}\n",
    "      \"epsilon\":100,\n",
    "      \"target_corr\": corr_g,\n",
    "      \"sigmas\":[1.,2.,4.,8.,16.,32.,64.,128.]\n",
    "     }"
   ]
  },
  {
   "cell_type": "code",
   "execution_count": 6,
   "metadata": {
    "scrolled": true
   },
   "outputs": [
    {
     "name": "stdout",
     "output_type": "stream",
     "text": [
      "[   1/ 100], Loss: 0.0633, sRMMD : 0.0318, Decorr: 0.444\n",
      "[   2/ 100], Loss: 0.0281, sRMMD : 0.0266, Decorr: 0.447\n",
      "[   3/ 100], Loss: 0.0209, sRMMD : 0.0196, Decorr: 0.452\n",
      "[   4/ 100], Loss: 0.0199, sRMMD : 0.0187, Decorr: 0.450\n",
      "[   5/ 100], Loss: 0.0191, sRMMD : 0.0180, Decorr: 0.455\n",
      "[   6/ 100], Loss: 0.0203, sRMMD : 0.0192, Decorr: 0.457\n",
      "[   7/ 100], Loss: 0.0177, sRMMD : 0.0166, Decorr: 0.455\n",
      "[   8/ 100], Loss: 0.0186, sRMMD : 0.0174, Decorr: 0.461\n",
      "[   9/ 100], Loss: 0.0175, sRMMD : 0.0163, Decorr: 0.449\n",
      "[  10/ 100], Loss: 0.0167, sRMMD : 0.0157, Decorr: 0.454\n",
      "[  11/ 100], Loss: 0.0164, sRMMD : 0.0153, Decorr: 0.454\n",
      "[  12/ 100], Loss: 0.0161, sRMMD : 0.0150, Decorr: 0.456\n",
      "[  13/ 100], Loss: 0.0158, sRMMD : 0.0147, Decorr: 0.456\n",
      "[  14/ 100], Loss: 0.0151, sRMMD : 0.0140, Decorr: 0.445\n",
      "[  15/ 100], Loss: 0.0151, sRMMD : 0.0140, Decorr: 0.453\n",
      "[  16/ 100], Loss: 0.0148, sRMMD : 0.0138, Decorr: 0.447\n",
      "[  17/ 100], Loss: 0.0156, sRMMD : 0.0146, Decorr: 0.449\n",
      "[  18/ 100], Loss: 0.0146, sRMMD : 0.0136, Decorr: 0.448\n",
      "[  19/ 100], Loss: 0.0147, sRMMD : 0.0136, Decorr: 0.455\n",
      "[  20/ 100], Loss: 0.0141, sRMMD : 0.0130, Decorr: 0.449\n",
      "[  21/ 100], Loss: 0.0152, sRMMD : 0.0142, Decorr: 0.458\n",
      "[  22/ 100], Loss: 0.0145, sRMMD : 0.0135, Decorr: 0.446\n",
      "[  23/ 100], Loss: 0.0135, sRMMD : 0.0125, Decorr: 0.454\n",
      "[  24/ 100], Loss: 0.0148, sRMMD : 0.0138, Decorr: 0.454\n",
      "[  25/ 100], Loss: 0.0149, sRMMD : 0.0139, Decorr: 0.445\n",
      "[  26/ 100], Loss: 0.0149, sRMMD : 0.0139, Decorr: 0.462\n",
      "[  27/ 100], Loss: 0.0143, sRMMD : 0.0133, Decorr: 0.451\n",
      "[  28/ 100], Loss: 0.0141, sRMMD : 0.0131, Decorr: 0.456\n",
      "[  29/ 100], Loss: 0.0150, sRMMD : 0.0139, Decorr: 0.457\n",
      "[  30/ 100], Loss: 0.0149, sRMMD : 0.0138, Decorr: 0.456\n",
      "[  31/ 100], Loss: 0.0142, sRMMD : 0.0132, Decorr: 0.462\n",
      "[  32/ 100], Loss: 0.0145, sRMMD : 0.0134, Decorr: 0.449\n",
      "[  33/ 100], Loss: 0.0138, sRMMD : 0.0127, Decorr: 0.459\n",
      "[  34/ 100], Loss: 0.0140, sRMMD : 0.0129, Decorr: 0.457\n",
      "[  35/ 100], Loss: 0.0133, sRMMD : 0.0123, Decorr: 0.448\n",
      "[  36/ 100], Loss: 0.0137, sRMMD : 0.0127, Decorr: 0.456\n",
      "[  37/ 100], Loss: 0.0144, sRMMD : 0.0134, Decorr: 0.451\n",
      "[  38/ 100], Loss: 0.0129, sRMMD : 0.0119, Decorr: 0.451\n",
      "[  39/ 100], Loss: 0.0144, sRMMD : 0.0134, Decorr: 0.450\n",
      "[  40/ 100], Loss: 0.0139, sRMMD : 0.0128, Decorr: 0.453\n",
      "[  41/ 100], Loss: 0.0132, sRMMD : 0.0122, Decorr: 0.454\n",
      "[  42/ 100], Loss: 0.0148, sRMMD : 0.0137, Decorr: 0.450\n",
      "[  43/ 100], Loss: 0.0141, sRMMD : 0.0131, Decorr: 0.449\n",
      "[  44/ 100], Loss: 0.0128, sRMMD : 0.0119, Decorr: 0.450\n",
      "[  45/ 100], Loss: 0.0136, sRMMD : 0.0126, Decorr: 0.447\n",
      "[  46/ 100], Loss: 0.0135, sRMMD : 0.0125, Decorr: 0.445\n",
      "[  47/ 100], Loss: 0.0142, sRMMD : 0.0132, Decorr: 0.457\n",
      "[  48/ 100], Loss: 0.0134, sRMMD : 0.0124, Decorr: 0.453\n",
      "[  49/ 100], Loss: 0.0135, sRMMD : 0.0125, Decorr: 0.454\n",
      "[  50/ 100], Loss: 0.0129, sRMMD : 0.0119, Decorr: 0.456\n",
      "[  51/ 100], Loss: 0.0139, sRMMD : 0.0129, Decorr: 0.443\n",
      "[  52/ 100], Loss: 0.0132, sRMMD : 0.0122, Decorr: 0.450\n",
      "[  53/ 100], Loss: 0.0134, sRMMD : 0.0124, Decorr: 0.451\n",
      "[  54/ 100], Loss: 0.0138, sRMMD : 0.0128, Decorr: 0.444\n",
      "[  55/ 100], Loss: 0.0140, sRMMD : 0.0129, Decorr: 0.451\n",
      "[  56/ 100], Loss: 0.0128, sRMMD : 0.0118, Decorr: 0.457\n",
      "[  57/ 100], Loss: 0.0130, sRMMD : 0.0120, Decorr: 0.456\n",
      "[  58/ 100], Loss: 0.0138, sRMMD : 0.0127, Decorr: 0.453\n",
      "[  59/ 100], Loss: 0.0127, sRMMD : 0.0117, Decorr: 0.455\n",
      "[  60/ 100], Loss: 0.0164, sRMMD : 0.0153, Decorr: 0.446\n",
      "[  61/ 100], Loss: 0.0136, sRMMD : 0.0126, Decorr: 0.449\n",
      "[  62/ 100], Loss: 0.0133, sRMMD : 0.0123, Decorr: 0.452\n",
      "[  63/ 100], Loss: 0.0140, sRMMD : 0.0129, Decorr: 0.456\n",
      "[  64/ 100], Loss: 0.0130, sRMMD : 0.0120, Decorr: 0.457\n",
      "[  65/ 100], Loss: 0.0133, sRMMD : 0.0123, Decorr: 0.446\n",
      "[  66/ 100], Loss: 0.0131, sRMMD : 0.0121, Decorr: 0.464\n",
      "[  67/ 100], Loss: 0.0133, sRMMD : 0.0122, Decorr: 0.455\n",
      "[  68/ 100], Loss: 0.0133, sRMMD : 0.0123, Decorr: 0.456\n",
      "[  69/ 100], Loss: 0.0133, sRMMD : 0.0123, Decorr: 0.444\n",
      "[  70/ 100], Loss: 0.0127, sRMMD : 0.0118, Decorr: 0.450\n",
      "[  71/ 100], Loss: 0.0127, sRMMD : 0.0117, Decorr: 0.453\n",
      "[  72/ 100], Loss: 0.0129, sRMMD : 0.0120, Decorr: 0.456\n",
      "[  73/ 100], Loss: 0.0125, sRMMD : 0.0115, Decorr: 0.456\n",
      "[  74/ 100], Loss: 0.0123, sRMMD : 0.0113, Decorr: 0.461\n",
      "[  75/ 100], Loss: 0.0126, sRMMD : 0.0116, Decorr: 0.446\n",
      "[  76/ 100], Loss: 0.0132, sRMMD : 0.0122, Decorr: 0.456\n",
      "[  77/ 100], Loss: 0.0136, sRMMD : 0.0126, Decorr: 0.448\n",
      "[  78/ 100], Loss: 0.0131, sRMMD : 0.0121, Decorr: 0.447\n",
      "[  79/ 100], Loss: 0.0128, sRMMD : 0.0118, Decorr: 0.454\n",
      "[  80/ 100], Loss: 0.0125, sRMMD : 0.0116, Decorr: 0.450\n",
      "[  81/ 100], Loss: 0.0134, sRMMD : 0.0125, Decorr: 0.453\n",
      "[  82/ 100], Loss: 0.0130, sRMMD : 0.0120, Decorr: 0.453\n",
      "[  83/ 100], Loss: 0.0131, sRMMD : 0.0121, Decorr: 0.456\n",
      "[  84/ 100], Loss: 0.0124, sRMMD : 0.0115, Decorr: 0.451\n",
      "[  85/ 100], Loss: 0.0131, sRMMD : 0.0121, Decorr: 0.456\n",
      "[  86/ 100], Loss: 0.0128, sRMMD : 0.0118, Decorr: 0.462\n",
      "[  87/ 100], Loss: 0.0131, sRMMD : 0.0121, Decorr: 0.463\n",
      "[  88/ 100], Loss: 0.0133, sRMMD : 0.0123, Decorr: 0.449\n",
      "[  89/ 100], Loss: 0.0123, sRMMD : 0.0114, Decorr: 0.451\n",
      "[  90/ 100], Loss: 0.0122, sRMMD : 0.0112, Decorr: 0.451\n",
      "[  91/ 100], Loss: 0.0129, sRMMD : 0.0119, Decorr: 0.451\n",
      "[  92/ 100], Loss: 0.0123, sRMMD : 0.0113, Decorr: 0.462\n",
      "[  93/ 100], Loss: 0.0139, sRMMD : 0.0129, Decorr: 0.443\n",
      "[  94/ 100], Loss: 0.0132, sRMMD : 0.0122, Decorr: 0.460\n",
      "[  95/ 100], Loss: 0.0127, sRMMD : 0.0118, Decorr: 0.448\n",
      "[  96/ 100], Loss: 0.0126, sRMMD : 0.0116, Decorr: 0.448\n",
      "[  97/ 100], Loss: 0.0129, sRMMD : 0.0120, Decorr: 0.454\n",
      "[  98/ 100], Loss: 0.0136, sRMMD : 0.0126, Decorr: 0.453\n",
      "[  99/ 100], Loss: 0.0123, sRMMD : 0.0113, Decorr: 0.458\n",
      "[ 100/ 100], Loss: 0.0136, sRMMD : 0.0127, Decorr: 0.452\n"
     ]
    }
   ],
   "source": [
    "machine = KnockoffGenerator(pars)\n",
    "machine.train(xTrain)"
   ]
  },
  {
   "cell_type": "code",
   "execution_count": 27,
   "metadata": {
    "scrolled": true
   },
   "outputs": [
    {
     "name": "stdout",
     "output_type": "stream",
     "text": [
      "Running 100 experiments with signal amplitude: 3.00\n",
      "Running 100 experiments with signal amplitude: 5.00\n",
      "Running 100 experiments with signal amplitude: 10.00\n",
      "Running 100 experiments with signal amplitude: 15.00\n",
      "Running 100 experiments with signal amplitude: 20.00\n",
      "Running 100 experiments with signal amplitude: 25.00\n",
      "Running 100 experiments with signal amplitude: 30.00\n"
     ]
    }
   ],
   "source": [
    "signal_n = 20 # no of nonzero entries\n",
    "n_experiments = 100 \n",
    "nominal_fdr = 0.1\n",
    "signal_amplitude_vec =  [3, 5, 10, 15, 20, 25, 30]\n",
    "results_pow = pd.DataFrame(columns=['amp', 'srmmd'])\n",
    "results_fdp = pd.DataFrame(columns=['amp', 'srmmd'])\n",
    "for amp_id in range(len(signal_amplitude_vec)):\n",
    "    FDP, POW= [],[]\n",
    "    signal_amplitude = signal_amplitude_vec[amp_id]\n",
    "    print(\"Running %d experiments with signal amplitude: %.2f\" %(n_experiments,signal_amplitude))\n",
    "    for i in range(n_experiments):\n",
    "        xTest = dataSampler.sample(n= 200)\n",
    "        xsRMMD= machine.generate(xTest)\n",
    "        y,theta = sample_Y(xTest, signal_n=signal_n, signal_a=signal_amplitude)\n",
    "        concat_X = np.concatenate((xTest, xsRMMD), axis = 1)\n",
    "        if i == 0: # to save computational time, we only compute the optimal lasso penalty for one instance\n",
    "            reg = LassoCV(cv = 10, normalize= True, random_state = 0).fit(concat_X, y)\n",
    "            alpha = reg.alpha_ # optimal lasso penalty\n",
    "        clf = linear_model.Lasso(alpha = alpha, normalize= True, max_iter = 250000)\n",
    "        clf.fit(concat_X, y)\n",
    "        Z = clf.coef_\n",
    "        W = np.abs(Z[:d]) - np.abs(Z[d:])\n",
    "        selected, fdp, power = select(W, theta, nominal_fdr=nominal_fdr)\n",
    "        FDP.append(fdp)\n",
    "        POW.append(power)\n",
    "    results_pow=  results_pow.append({'amp': signal_amplitude,'srmmd': np.mean(POW)}, ignore_index = True)\n",
    "    results_fdp = results_fdp.append({'amp': signal_amplitude,'srmmd': np.mean(FDP)}, ignore_index = True)"
   ]
  },
  {
   "cell_type": "code",
   "execution_count": 28,
   "metadata": {},
   "outputs": [
    {
     "data": {
      "text/plain": [
       "(-0.015, 0.5)"
      ]
     },
     "execution_count": 28,
     "metadata": {},
     "output_type": "execute_result"
    },
    {
     "data": {
      "image/png": "[encoded data removed]",
      "text/plain": [
       "<Figure size 864x288 with 2 Axes>"
      ]
     },
     "metadata": {
      "needs_background": "light"
     },
     "output_type": "display_data"
    }
   ],
   "source": [
    "fig, ax = plt.subplots(1, 2, figsize=(12, 4))\n",
    "plt.subplots_adjust(top=0.92, bottom=0.08, left=0.10, right=0.95, hspace=.2, wspace=.25)\n",
    "ax[0].plot(signal_amplitude_vec, results_pow['srmmd'], \"-8\", markersize=5, linewidth = 2)\n",
    "ax[0].set_xlabel('Amplitude', fontsize = 14)\n",
    "ax[0].set_ylabel('POWER', fontsize = 14)\n",
    "ax[1].plot(signal_amplitude_vec, results_fdp['srmmd'], \"-8\", markersize=5, linewidth = 2)\n",
    "ax[1].set_xlabel('Amplitude', fontsize = 14)\n",
    "ax[1].set_ylabel('FDR', fontsize = 14)\n",
    "ax[1].axhline(y=0.1, color='red', linestyle='--')\n",
    "ax[1].set_ylim([-0.015,0.5])"
   ]
  },
  {
   "cell_type": "code",
   "execution_count": null,
   "metadata": {},
   "outputs": [],
   "source": []
  }
 ],
 "metadata": {
  "kernelspec": {
   "display_name": "Python 3",
   "language": "python",
   "name": "python3"
  },
  "language_info": {
   "codemirror_mode": {
    "name": "ipython",
    "version": 3
   },
   "file_extension": ".py",
   "mimetype": "text/x-python",
   "name": "python",
   "nbconvert_exporter": "python",
   "pygments_lexer": "ipython3",
   "version": "3.8.3"
  }
 },
 "nbformat": 4,
 "nbformat_minor": 5
}
